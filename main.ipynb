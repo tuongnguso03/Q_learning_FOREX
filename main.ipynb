{
 "cells": [
  {
   "cell_type": "code",
   "execution_count": 1,
   "metadata": {},
   "outputs": [
    {
     "name": "stderr",
     "output_type": "stream",
     "text": [
      "c:\\Users\\thangta1\\anaconda3\\lib\\site-packages\\sklearn\\cluster\\_kmeans.py:870: FutureWarning: The default value of `n_init` will change from 10 to 'auto' in 1.4. Set the value of `n_init` explicitly to suppress the warning\n",
      "  warnings.warn(\n",
      "c:\\Users\\thangta1\\anaconda3\\lib\\site-packages\\sklearn\\cluster\\_kmeans.py:1382: UserWarning: KMeans is known to have a memory leak on Windows with MKL, when there are less chunks than available threads. You can avoid it by setting the environment variable OMP_NUM_THREADS=7.\n",
      "  warnings.warn(\n",
      "c:\\Users\\thangta1\\anaconda3\\lib\\site-packages\\sklearn\\cluster\\_kmeans.py:870: FutureWarning: The default value of `n_init` will change from 10 to 'auto' in 1.4. Set the value of `n_init` explicitly to suppress the warning\n",
      "  warnings.warn(\n",
      "c:\\Users\\thangta1\\anaconda3\\lib\\site-packages\\sklearn\\cluster\\_kmeans.py:1382: UserWarning: KMeans is known to have a memory leak on Windows with MKL, when there are less chunks than available threads. You can avoid it by setting the environment variable OMP_NUM_THREADS=7.\n",
      "  warnings.warn(\n",
      "c:\\Users\\thangta1\\anaconda3\\lib\\site-packages\\sklearn\\cluster\\_kmeans.py:870: FutureWarning: The default value of `n_init` will change from 10 to 'auto' in 1.4. Set the value of `n_init` explicitly to suppress the warning\n",
      "  warnings.warn(\n",
      "c:\\Users\\thangta1\\anaconda3\\lib\\site-packages\\sklearn\\cluster\\_kmeans.py:1382: UserWarning: KMeans is known to have a memory leak on Windows with MKL, when there are less chunks than available threads. You can avoid it by setting the environment variable OMP_NUM_THREADS=7.\n",
      "  warnings.warn(\n"
     ]
    },
    {
     "name": "stdout",
     "output_type": "stream",
     "text": [
      "Enter Forex Environment\n",
      "Enter Forex Environment\n"
     ]
    }
   ],
   "source": [
    "from environment import ForexEnv\n",
    "from model import Model\n",
    "import pandas as pd\n",
    "from data_processing import dataset_with_indicators, print_bins\n",
    "import math"
   ]
  },
  {
   "cell_type": "code",
   "execution_count": 3,
   "metadata": {},
   "outputs": [
    {
     "name": "stdout",
     "output_type": "stream",
     "text": [
      "price: [0.8227, 0.8487, 0.8747, 0.9007, 0.9267, 0.9527, 0.9787, 1.0047, 1.0307, 1.0567, 1.0827, 1.1087, 1.1347, 1.1607, 1.1867, 1.2127, 1.2387, 1.2647, 1.2907, 1.3167, 1.3427, 1.3687, 1.3947, 1.4207, 1.4467, 1.4727, 1.4987, 1.5247, 1.5507, 1.5767, 1.6027]\n",
      "toZone: [0.00081, 0.00246, 0.00391, 0.0053, 0.00688, 0.00875, 0.01051, 0.01339, 0.01809, 0.02566]\n",
      "kt_score: [5.68386, 8.68725, 11.56433, 14.82805, 19.43959, 24.99437, 33.26295, 44.68489, 66.90626, 112.24473]\n",
      "bs_score: [2.96503, 86.86616, 356.51993, 684.51489, 2496.47856]\n",
      "((1.3687, None, 33.26295, 2.96503), 0)\n",
      "{}\n",
      "((1.3687, None, 33.26295, 2.96503), 0)\n"
     ]
    }
   ],
   "source": [
    "df_2 = pd.read_csv('forex_data_2000.csv')\n",
    "# print_bins()\n",
    "df_2 = df_2.loc[::-1].reset_index(drop=True).tail(500).reset_index(drop=True)\n",
    "environment_2 = ForexEnv(df_2)\n",
    "print(environment_2.state)\n",
    "agent_2 = Model()\n",
    "#agent_2 = Model(load=\"Q_value_test2.pickle\")\n",
    "print(dict(agent_2.Q_values))\n",
    "print(environment_2.reset())"
   ]
  },
  {
   "cell_type": "code",
   "execution_count": null,
   "metadata": {},
   "outputs": [],
   "source": [
    "print(environment_2.step(-math.pi))"
   ]
  },
  {
   "cell_type": "code",
   "execution_count": null,
   "metadata": {},
   "outputs": [],
   "source": [
    "print(environment_2.state)\n",
    "print(environment_2.balance)\n",
    "print(environment_2.asset_memory)\n",
    "print(environment_2.rewards_memory)\n"
   ]
  },
  {
   "cell_type": "code",
   "execution_count": null,
   "metadata": {},
   "outputs": [],
   "source": [
    "print(df_2.head(10))"
   ]
  },
  {
   "cell_type": "code",
   "execution_count": 2,
   "metadata": {},
   "outputs": [
    {
     "name": "stdout",
     "output_type": "stream",
     "text": [
      "((1.1235, 0.00385961, 9.54212269, 9.72074227), 0)\n"
     ]
    }
   ],
   "source": [
    "df = pd.read_csv('forex_data.csv')\n",
    "dataset_with_indicators(df)\n",
    "df = df.loc[::-1].reset_index(drop=True).head(1000)\n",
    "environment = ForexEnv(df)\n",
    "print(environment.state)\n",
    "agent = Model(load=\"Q_value_test2.pickle\")\n",
    "#print(agent.Q_values)"
   ]
  },
  {
   "cell_type": "code",
   "execution_count": null,
   "metadata": {},
   "outputs": [],
   "source": [
    "#bins = [0.9535, 0.9735, 0.9935, 1.0135, 1.0335, 1.0535, 1.0735, 1.0935, 1.1135, 1.1335, 1.1535, 1.1735, 1.1935, 1.2135, 1.2335, 1.2535, 1.2735, 1.2935, 1.3135, 1.3335, 1.3535]"
   ]
  },
  {
   "cell_type": "code",
   "execution_count": null,
   "metadata": {},
   "outputs": [],
   "source": [
    "print(df)"
   ]
  },
  {
   "cell_type": "code",
   "execution_count": 3,
   "metadata": {},
   "outputs": [
    {
     "name": "stdout",
     "output_type": "stream",
     "text": [
      "((1.1235, 0.00385961, 9.54212269, 9.72074227), 0)\n"
     ]
    }
   ],
   "source": [
    "print(environment.reset())"
   ]
  },
  {
   "cell_type": "code",
   "execution_count": null,
   "metadata": {},
   "outputs": [],
   "source": [
    "# environment.step(-1)\n",
    "print(environment.balance)\n",
    "print(environment.asset_memory)\n",
    "print(environment.state)"
   ]
  },
  {
   "cell_type": "code",
   "execution_count": 4,
   "metadata": {},
   "outputs": [
    {
     "name": "stdout",
     "output_type": "stream",
     "text": [
      "39143\n"
     ]
    }
   ],
   "source": [
    "print(len(list(dict(agent.Q_values).values())))"
   ]
  },
  {
   "cell_type": "code",
   "execution_count": 6,
   "metadata": {},
   "outputs": [
    {
     "name": "stdout",
     "output_type": "stream",
     "text": [
      "Iteration  0\n",
      "end_total_asset:1031165.406\n",
      "Iteration  1\n",
      "end_total_asset:1036850.3140000026\n",
      "Iteration  2\n",
      "end_total_asset:1041775.2000000017\n",
      "Iteration  3\n",
      "end_total_asset:1035619.1000000004\n",
      "Iteration  4\n",
      "end_total_asset:1038248.7819999979\n",
      "Iteration  5\n",
      "end_total_asset:1040133.0420000004\n",
      "Iteration  6\n",
      "end_total_asset:1032565.758000001\n",
      "Iteration  7\n",
      "end_total_asset:1041680.4600000018\n",
      "Iteration  8\n",
      "end_total_asset:1040167.9359999993\n",
      "Iteration  9\n",
      "end_total_asset:1045955.3360000001\n",
      "Iteration  10\n",
      "end_total_asset:1039477.5680000001\n",
      "Iteration  11\n",
      "end_total_asset:1034293.4620000006\n",
      "Iteration  12\n",
      "end_total_asset:1045428.322000003\n",
      "Iteration  13\n"
     ]
    }
   ],
   "source": [
    "agent.Q_learning(environment, iterations=100)"
   ]
  },
  {
   "cell_type": "code",
   "execution_count": null,
   "metadata": {},
   "outputs": [],
   "source": [
    "print(environment.step(math.pi))"
   ]
  },
  {
   "cell_type": "code",
   "execution_count": null,
   "metadata": {},
   "outputs": [],
   "source": [
    "print(environment.state)\n",
    "print(environment.balance)\n",
    "print(environment.asset_memory)\n",
    "print(environment.rewards_memory)"
   ]
  },
  {
   "cell_type": "code",
   "execution_count": null,
   "metadata": {},
   "outputs": [],
   "source": [
    "print(environment.state)\n",
    "print(environment.balance)\n",
    "print(environment.asset_memory)\n",
    "print(environment.rewards_memory)"
   ]
  },
  {
   "cell_type": "code",
   "execution_count": null,
   "metadata": {},
   "outputs": [],
   "source": [
    "#saving the agent's q values\n",
    "import pickle\n",
    "Q_dict = dict(agent.Q_values)\n",
    "with open('Q_value_test2.pickle', 'wb') as handle:\n",
    "    pickle.dump(Q_dict, handle, protocol=pickle.HIGHEST_PROTOCOL)"
   ]
  },
  {
   "cell_type": "code",
   "execution_count": null,
   "metadata": {},
   "outputs": [],
   "source": [
    "keys = list(Q_dict.keys())\n",
    "reduce = [a[0] for a in keys]\n",
    "state = [a[0] for a in reduce]\n",
    "price = [a[0] for a in state]\n",
    "print(len(price))\n",
    "if 1.1835 in price:\n",
    "    print(1)\n",
    "#print(state)\n",
    "#print(Q_dict[(((1.1835, 0.0068, 8.7028, 0.34), 20), 0)])"
   ]
  },
  {
   "cell_type": "code",
   "execution_count": null,
   "metadata": {},
   "outputs": [],
   "source": [
    "df_2 = pd.read_csv('forex_data.csv')\n",
    "df_2 = df_2.loc[::-1].reset_index(drop=True).tail(500).reset_index(drop=True)\n",
    "environment_2 = ForexEnv(df_2)\n",
    "print(environment_2.state)\n",
    "#agent_2 = Model()\n",
    "agent_2 = Model(load=\"Q_value_test2.pickle\")\n",
    "#print(dict(agent_2.Q_values))\n",
    "print(environment_2.reset())"
   ]
  },
  {
   "cell_type": "code",
   "execution_count": null,
   "metadata": {},
   "outputs": [],
   "source": [
    "agent_2.Q_learning(environment_2, iterations=1, alpha = 0, exploration = 0, discount = 0, debug=True)"
   ]
  },
  {
   "cell_type": "code",
   "execution_count": null,
   "metadata": {},
   "outputs": [],
   "source": [
    "agent_2.Q_learning(environment_2, iterations=1, alpha = 0, exploration = 0, discount = 0, debug=True)"
   ]
  },
  {
   "cell_type": "code",
   "execution_count": null,
   "metadata": {},
   "outputs": [],
   "source": [
    "dataset_with_indicators(df)\n",
    "print(df)"
   ]
  }
 ],
 "metadata": {
  "interpreter": {
   "hash": "88d539b4520202eb5e4c6dfa8844d3212bffe2b772245135a1398c04deaa950e"
  },
  "kernelspec": {
   "display_name": "Python 3.9.7 64-bit",
   "name": "python3"
  },
  "language_info": {
   "codemirror_mode": {
    "name": "ipython",
    "version": 3
   },
   "file_extension": ".py",
   "mimetype": "text/x-python",
   "name": "python",
   "nbconvert_exporter": "python",
   "pygments_lexer": "ipython3",
   "version": "3.10.9"
  },
  "orig_nbformat": 4
 },
 "nbformat": 4,
 "nbformat_minor": 2
}
