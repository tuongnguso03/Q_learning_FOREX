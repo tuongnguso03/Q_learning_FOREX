{
 "cells": [
  {
   "cell_type": "code",
   "execution_count": 1,
   "source": [
    "from environment import ForexEnv\n",
    "from model import Model\n",
    "import pandas as pd\n",
    "from data_processing import dataset_with_indicators\n",
    "import math"
   ],
   "outputs": [
    {
     "output_type": "stream",
     "name": "stderr",
     "text": [
      "/Users/vubinhminh/.conda/envs/pythonProject/lib/python3.9/site-packages/sklearn/cluster/_kmeans.py:870: FutureWarning: The default value of `n_init` will change from 10 to 'auto' in 1.4. Set the value of `n_init` explicitly to suppress the warning\n",
      "  warnings.warn(\n",
      "/Users/vubinhminh/.conda/envs/pythonProject/lib/python3.9/site-packages/sklearn/cluster/_kmeans.py:870: FutureWarning: The default value of `n_init` will change from 10 to 'auto' in 1.4. Set the value of `n_init` explicitly to suppress the warning\n",
      "  warnings.warn(\n",
      "/Users/vubinhminh/.conda/envs/pythonProject/lib/python3.9/site-packages/sklearn/cluster/_kmeans.py:870: FutureWarning: The default value of `n_init` will change from 10 to 'auto' in 1.4. Set the value of `n_init` explicitly to suppress the warning\n",
      "  warnings.warn(\n"
     ]
    },
    {
     "output_type": "stream",
     "name": "stdout",
     "text": [
      "Enter Forex Environment\n",
      "Enter Forex Environment\n"
     ]
    }
   ],
   "metadata": {}
  },
  {
   "cell_type": "code",
   "execution_count": null,
   "source": [
    "df_2 = pd.read_csv('forex_data.csv')\n",
    "df_2 = df_2.loc[::-1].reset_index(drop=True).tail(500).reset_index(drop=True)\n",
    "environment_2 = ForexEnv(df_2)\n",
    "print(environment_2.state)\n",
    "agent_2 = Model()\n",
    "#agent_2 = Model(load=\"Q_value_test2.pickle\")\n",
    "print(dict(agent_2.Q_values))\n",
    "print(environment_2.reset())"
   ],
   "outputs": [],
   "metadata": {}
  },
  {
   "cell_type": "code",
   "execution_count": null,
   "source": [
    "print(environment_2.step(-math.pi))"
   ],
   "outputs": [],
   "metadata": {}
  },
  {
   "cell_type": "code",
   "execution_count": null,
   "source": [
    "print(environment_2.state)\n",
    "print(environment_2.balance)\n",
    "print(environment_2.asset_memory)\n",
    "print(environment_2.rewards_memory)\n"
   ],
   "outputs": [],
   "metadata": {}
  },
  {
   "cell_type": "code",
   "execution_count": null,
   "source": [
    "print(df_2.head(10))"
   ],
   "outputs": [],
   "metadata": {}
  },
  {
   "cell_type": "code",
   "execution_count": 2,
   "source": [
    "df = pd.read_csv('forex_data.csv')\n",
    "dataset_with_indicators(df)\n",
    "df = df.loc[::-1].reset_index(drop=True).head(1000)\n",
    "environment = ForexEnv(df)\n",
    "print(environment.state)\n",
    "agent = Model(load=\"Q_value_test2.pickle\")\n",
    "#print(agent.Q_values)"
   ],
   "outputs": [
    {
     "output_type": "stream",
     "name": "stdout",
     "text": [
      "((1.1235, 0.00385961, 9.54212269, 9.72074227), 0)\n"
     ]
    }
   ],
   "metadata": {}
  },
  {
   "cell_type": "code",
   "execution_count": null,
   "source": [
    "#bins = [0.9535, 0.9735, 0.9935, 1.0135, 1.0335, 1.0535, 1.0735, 1.0935, 1.1135, 1.1335, 1.1535, 1.1735, 1.1935, 1.2135, 1.2335, 1.2535, 1.2735, 1.2935, 1.3135, 1.3335, 1.3535]"
   ],
   "outputs": [],
   "metadata": {}
  },
  {
   "cell_type": "code",
   "execution_count": null,
   "source": [
    "print(df)"
   ],
   "outputs": [],
   "metadata": {}
  },
  {
   "cell_type": "code",
   "execution_count": 3,
   "source": [
    "print(environment.reset())"
   ],
   "outputs": [
    {
     "output_type": "stream",
     "name": "stdout",
     "text": [
      "((1.1235, 0.00385961, 9.54212269, 9.72074227), 0)\n"
     ]
    }
   ],
   "metadata": {}
  },
  {
   "cell_type": "code",
   "execution_count": null,
   "source": [
    "# environment.step(-1)\n",
    "print(environment.balance)\n",
    "print(environment.asset_memory)\n",
    "print(environment.state)"
   ],
   "outputs": [],
   "metadata": {}
  },
  {
   "cell_type": "code",
   "execution_count": 4,
   "source": [
    "print(len(list(dict(agent.Q_values).values())))"
   ],
   "outputs": [
    {
     "output_type": "stream",
     "name": "stdout",
     "text": [
      "39143\n"
     ]
    }
   ],
   "metadata": {}
  },
  {
   "cell_type": "code",
   "execution_count": 6,
   "source": [
    "agent.Q_learning(environment, iterations=100)"
   ],
   "outputs": [
    {
     "output_type": "stream",
     "name": "stdout",
     "text": [
      "Iteration  0\n",
      "end_total_asset:1031165.406\n",
      "Iteration  1\n",
      "end_total_asset:1036850.3140000026\n",
      "Iteration  2\n",
      "end_total_asset:1041775.2000000017\n",
      "Iteration  3\n",
      "end_total_asset:1035619.1000000004\n",
      "Iteration  4\n",
      "end_total_asset:1038248.7819999979\n",
      "Iteration  5\n",
      "end_total_asset:1040133.0420000004\n",
      "Iteration  6\n",
      "end_total_asset:1032565.758000001\n",
      "Iteration  7\n",
      "end_total_asset:1041680.4600000018\n",
      "Iteration  8\n",
      "end_total_asset:1040167.9359999993\n",
      "Iteration  9\n",
      "end_total_asset:1045955.3360000001\n",
      "Iteration  10\n",
      "end_total_asset:1039477.5680000001\n",
      "Iteration  11\n",
      "end_total_asset:1034293.4620000006\n",
      "Iteration  12\n",
      "end_total_asset:1045428.322000003\n",
      "Iteration  13\n"
     ]
    }
   ],
   "metadata": {}
  },
  {
   "cell_type": "code",
   "execution_count": null,
   "source": [
    "print(environment.step(math.pi))"
   ],
   "outputs": [],
   "metadata": {}
  },
  {
   "cell_type": "code",
   "execution_count": null,
   "source": [
    "print(environment.state)\n",
    "print(environment.balance)\n",
    "print(environment.asset_memory)\n",
    "print(environment.rewards_memory)"
   ],
   "outputs": [],
   "metadata": {}
  },
  {
   "cell_type": "code",
   "execution_count": null,
   "source": [
    "print(environment.state)\n",
    "print(environment.balance)\n",
    "print(environment.asset_memory)\n",
    "print(environment.rewards_memory)"
   ],
   "outputs": [],
   "metadata": {}
  },
  {
   "cell_type": "code",
   "execution_count": null,
   "source": [
    "#saving the agent's q values\n",
    "import pickle\n",
    "Q_dict = dict(agent.Q_values)\n",
    "with open('Q_value_test2.pickle', 'wb') as handle:\n",
    "    pickle.dump(Q_dict, handle, protocol=pickle.HIGHEST_PROTOCOL)"
   ],
   "outputs": [],
   "metadata": {}
  },
  {
   "cell_type": "code",
   "execution_count": null,
   "source": [
    "keys = list(Q_dict.keys())\n",
    "reduce = [a[0] for a in keys]\n",
    "state = [a[0] for a in reduce]\n",
    "price = [a[0] for a in state]\n",
    "print(len(price))\n",
    "if 1.1835 in price:\n",
    "    print(1)\n",
    "#print(state)\n",
    "#print(Q_dict[(((1.1835, 0.0068, 8.7028, 0.34), 20), 0)])"
   ],
   "outputs": [],
   "metadata": {}
  },
  {
   "cell_type": "code",
   "execution_count": null,
   "source": [
    "df_2 = pd.read_csv('forex_data.csv')\n",
    "df_2 = df_2.loc[::-1].reset_index(drop=True).tail(500).reset_index(drop=True)\n",
    "environment_2 = ForexEnv(df_2)\n",
    "print(environment_2.state)\n",
    "#agent_2 = Model()\n",
    "agent_2 = Model(load=\"Q_value_test2.pickle\")\n",
    "#print(dict(agent_2.Q_values))\n",
    "print(environment_2.reset())"
   ],
   "outputs": [],
   "metadata": {}
  },
  {
   "cell_type": "code",
   "execution_count": null,
   "source": [
    "agent_2.Q_learning(environment_2, iterations=1, alpha = 0, exploration = 0, discount = 0, debug=True)"
   ],
   "outputs": [],
   "metadata": {}
  },
  {
   "cell_type": "code",
   "execution_count": null,
   "source": [
    "agent_2.Q_learning(environment_2, iterations=1, alpha = 0, exploration = 0, discount = 0, debug=True)"
   ],
   "outputs": [],
   "metadata": {}
  },
  {
   "cell_type": "code",
   "execution_count": null,
   "source": [
    "dataset_with_indicators(df)\n",
    "print(df)"
   ],
   "outputs": [],
   "metadata": {}
  }
 ],
 "metadata": {
  "kernelspec": {
   "name": "python3",
   "display_name": "Python 3.9.7 64-bit"
  },
  "language_info": {
   "codemirror_mode": {
    "name": "ipython",
    "version": 3
   },
   "file_extension": ".py",
   "mimetype": "text/x-python",
   "name": "python",
   "nbconvert_exporter": "python",
   "pygments_lexer": "ipython3",
   "version": "3.9.7"
  },
  "orig_nbformat": 4,
  "interpreter": {
   "hash": "88d539b4520202eb5e4c6dfa8844d3212bffe2b772245135a1398c04deaa950e"
  }
 },
 "nbformat": 4,
 "nbformat_minor": 2
}