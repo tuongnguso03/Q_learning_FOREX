{
 "cells": [
  {
   "cell_type": "code",
   "execution_count": 1,
   "source": [
    "from environment import ForexEnv\n",
    "from model import Model\n",
    "import pandas as pd\n",
    "from data_processing import dataset_with_indicators, print_bins\n",
    "import math\n",
    "import pickle\n",
    "import numpy as np"
   ],
   "outputs": [
    {
     "output_type": "stream",
     "name": "stderr",
     "text": [
      "/Users/vubinhminh/.conda/envs/pythonProject/lib/python3.9/site-packages/sklearn/cluster/_kmeans.py:870: FutureWarning: The default value of `n_init` will change from 10 to 'auto' in 1.4. Set the value of `n_init` explicitly to suppress the warning\n",
      "  warnings.warn(\n",
      "/Users/vubinhminh/.conda/envs/pythonProject/lib/python3.9/site-packages/sklearn/cluster/_kmeans.py:870: FutureWarning: The default value of `n_init` will change from 10 to 'auto' in 1.4. Set the value of `n_init` explicitly to suppress the warning\n",
      "  warnings.warn(\n"
     ]
    },
    {
     "output_type": "stream",
     "name": "stdout",
     "text": [
      "Enter Forex Environment\n",
      "Enter Forex Environment\n"
     ]
    }
   ],
   "metadata": {}
  },
  {
   "cell_type": "code",
   "execution_count": 2,
   "source": [
    "df = pd.read_csv('forex_data_2000.csv')\n",
    "dataset_with_indicators()\n",
    "environment = ForexEnv(df)\n",
    "print(environment.state)\n",
    "agent = Model()\n",
    "#agent = Model(load=\"Q_value_test2.pickle\")\n",
    "#print(agent.Q_values)"
   ],
   "outputs": [
    {
     "output_type": "stream",
     "name": "stdout",
     "text": [
      "((1.0918, 0.0345, 19.3354, 0.1762), 0)\n"
     ]
    }
   ],
   "metadata": {}
  },
  {
   "cell_type": "code",
   "execution_count": null,
   "source": [
    "print_bins()"
   ],
   "outputs": [],
   "metadata": {}
  },
  {
   "cell_type": "code",
   "execution_count": null,
   "source": [
    "df = pd.read_csv('forex_data_2017.csv')\n",
    "dataset_with_indicators()\n",
    "environment1 = ForexEnv(df)\n",
    "environment2 = ForexEnv(df)\n",
    "print(environment1.reset())\n",
    "print(environment2.reset())\n",
    "agent = Model()\n",
    "#agent = Model(load=\"Q_value_test2.pickle\")\n",
    "#agent = Model(load=\"Q_value_test11.pickle\")\n",
    "#print(agent.Q_values)"
   ],
   "outputs": [],
   "metadata": {}
  },
  {
   "cell_type": "code",
   "execution_count": 3,
   "source": [
    "result = []\n",
    "m = 1\n",
    "k = 12\n",
    "start = 0\n",
    "n = len(df)\n",
    "size = math.floor(n / k)\n",
    "df_test = pd.read_csv(\"forex_data_2017.csv\").head(1000).reset_index(drop=True)\n",
    "env_test = ForexEnv(df_test)\n",
    "\n",
    "for i in range(k):\n",
    "    if i == k - 1:\n",
    "        end = n\n",
    "    end = start + size\n",
    "    df_k = df.loc[start:end].reset_index(drop=True)\n",
    "    environment = ForexEnv(df_k)\n",
    "    environment.reset()\n",
    "    #print(df_k)\n",
    "    agent.Q_learning(environment, iterations=m, alpha=0, exploration=0, discount=0)\n",
    "    if i == 0 or i == k - 1:\n",
    "        agent.Q_learning(env_test, iterations=1, alpha=0, exploration=0, discount=0, debug=True)\n",
    "    else:\n",
    "        agent.Q_learning(env_test, iterations=1, alpha=0, exploration=0, discount=0)\n",
    "    result.append(env_test.asset_memory[-1])\n",
    "    f = open('b.csv', 'w')\n",
    "    f.truncate()\n",
    "    f.close()\n",
    "    q_data = pd.DataFrame({i: [result[-1]]})\n",
    "    q_data.to_csv('b.csv', mode='a', index=False, header=False)\n",
    "    start += size\n"
   ],
   "outputs": [
    {
     "output_type": "stream",
     "name": "stdout",
     "text": [
      "Iteration  0\n",
      "end_total_asset:1003345.1320000021\n",
      "Iteration  0\n",
      "end_total_asset:999065.8280000016\n",
      "Iteration  0\n",
      "end_total_asset:1001531.4080000004\n",
      "Iteration  0\n",
      "end_total_asset:999407.4820000012\n",
      "Iteration  0\n",
      "end_total_asset:1000314.2440000013\n",
      "Iteration  0\n",
      "end_total_asset:1004297.5400000002\n",
      "Iteration  0\n",
      "end_total_asset:1010773.4900000003\n",
      "Iteration  0\n",
      "end_total_asset:1004549.3540000013\n",
      "Iteration  0\n",
      "end_total_asset:1011197.054\n",
      "Iteration  0\n",
      "end_total_asset:1011893.0100000012\n",
      "Iteration  0\n",
      "end_total_asset:997706.1880000012\n",
      "Iteration  0\n",
      "end_total_asset:989093.6820000006\n",
      "Iteration  0\n",
      "end_total_asset:1003257.7479999999\n",
      "Iteration  0\n",
      "end_total_asset:984527.2960000011\n",
      "Iteration  0\n",
      "end_total_asset:1001023.3439999998\n",
      "Iteration  0\n",
      "end_total_asset:991256.9320000013\n",
      "Iteration  0\n",
      "end_total_asset:1000477.8720000007\n",
      "Iteration  0\n",
      "end_total_asset:993639.0320000001\n",
      "Iteration  0\n",
      "end_total_asset:1004086.0539999999\n",
      "Iteration  0\n",
      "end_total_asset:997793.0080000004\n",
      "Iteration  0\n",
      "end_total_asset:1002263.4859999992\n",
      "Iteration  0\n",
      "end_total_asset:995265.204000001\n",
      "Iteration  0\n",
      "end_total_asset:1002955.5459999995\n",
      "Iteration  0\n",
      "end_total_asset:1000191.9960000007\n"
     ]
    }
   ],
   "metadata": {}
  },
  {
   "cell_type": "code",
   "execution_count": null,
   "source": [
    "result = []\n",
    "m = 100\n",
    "k = 10\n",
    "start = 0\n",
    "n = len(df)\n",
    "size = math.floor(n / k)\n",
    "df_test = pd.read_csv(\"forex_data_2017.csv\")\n",
    "env_test = ForexEnv(df_test)\n",
    "\n",
    "for i in range(k):\n",
    "    if i == k - 1:\n",
    "        end = n\n",
    "    end = start + size\n",
    "    df_k = df.loc[start:end].reset_index(drop=True)\n",
    "    environment = ForexEnv(df_k)\n",
    "    environment.reset()\n",
    "    #print(df_k)\n",
    "    #agent.Q_learning(environment, iterations=m)\n",
    "    if i == 0:\n",
    "        agent.Q_learning(env_test, iterations=1, alpha=0, exploration=0, discount=0, debug=True)\n",
    "    else:\n",
    "        agent.Q_learning(env_test, iterations=1, alpha=0, exploration=0, discount=0)\n",
    "    result.append(env_test.asset_memory[-1])\n",
    "    q_data = pd.DataFrame({i: [result[-1]]})\n",
    "    q_data.to_csv('b.csv', mode='a', index=False, header=False)\n",
    "    start += size\n"
   ],
   "outputs": [],
   "metadata": {}
  },
  {
   "cell_type": "code",
   "execution_count": null,
   "source": [
    "print(df.loc[np.r_[10:20, 30:40],:])"
   ],
   "outputs": [],
   "metadata": {}
  },
  {
   "cell_type": "code",
   "execution_count": null,
   "source": [
    "agent.Q_learning(environment, iterations=100)"
   ],
   "outputs": [],
   "metadata": {}
  },
  {
   "cell_type": "code",
   "execution_count": null,
   "source": [
    "agent.Q_learning(env_test, iterations=1, alpha=0, exploration=0, discount=0)"
   ],
   "outputs": [],
   "metadata": {}
  },
  {
   "cell_type": "code",
   "execution_count": null,
   "source": [
    "print(environment.reset())"
   ],
   "outputs": [],
   "metadata": {}
  },
  {
   "cell_type": "code",
   "execution_count": null,
   "source": [
    "# environment.step(-1)\n",
    "print(environment.balance)\n",
    "print(environment.asset_memory)\n",
    "print(environment.state)"
   ],
   "outputs": [],
   "metadata": {}
  },
  {
   "cell_type": "code",
   "execution_count": null,
   "source": [
    "print(len(agent.Q_values))"
   ],
   "outputs": [],
   "metadata": {}
  },
  {
   "cell_type": "code",
   "execution_count": null,
   "source": [
    "agent.Q_learning(environment, iterations=5, alpha=0, exploration=0, discount=0)"
   ],
   "outputs": [],
   "metadata": {}
  },
  {
   "cell_type": "code",
   "execution_count": null,
   "source": [
    "print(environment.step(math.pi))"
   ],
   "outputs": [],
   "metadata": {}
  },
  {
   "cell_type": "code",
   "execution_count": null,
   "source": [
    "print(environment.state)\n",
    "print(environment.balance)\n",
    "print(environment.asset_memory)\n",
    "print(environment.rewards_memory)"
   ],
   "outputs": [],
   "metadata": {}
  },
  {
   "cell_type": "code",
   "execution_count": null,
   "source": [
    "print(environment.state)\n",
    "print(environment.balance)\n",
    "print(environment.asset_memory)\n",
    "print(environment.rewards_memory)"
   ],
   "outputs": [],
   "metadata": {}
  },
  {
   "cell_type": "code",
   "execution_count": null,
   "source": [
    "#saving the agent's q values\n",
    "Q_dict = dict(agent.Q_values)\n",
    "with open('Q_value_test2.pickle', 'wb') as handle:\n",
    "    pickle.dump(Q_dict, handle, protocol=pickle.HIGHEST_PROTOCOL)"
   ],
   "outputs": [],
   "metadata": {}
  },
  {
   "cell_type": "code",
   "execution_count": null,
   "source": [
    "print(len(Q_dict))"
   ],
   "outputs": [],
   "metadata": {}
  },
  {
   "cell_type": "code",
   "execution_count": null,
   "source": [
    "keys = list(Q_dict.keys())\n",
    "reduce = [a[0] for a in keys]\n",
    "state = [a[0] for a in reduce]\n",
    "price = [a[0] for a in state]\n",
    "#print(price)\n",
    "print(1.0827 in price)\n",
    "#print(state)\n",
    "#print(Q_dict[(((1.1835, 0.0068, 8.7028, 0.34), 20), 0)])"
   ],
   "outputs": [],
   "metadata": {}
  },
  {
   "cell_type": "code",
   "execution_count": null,
   "source": [
    "df_2 = pd.read_csv('forex_data_2017.csv')\n",
    "df_2 = df_2.loc[::-1].reset_index(drop=True).head(1000)\n",
    "environment_2 = ForexEnv(df_2)\n",
    "print(environment_2.state)\n",
    "#agent_2 = Model()\n",
    "agent_2 = Model(load=\"Q_value_test2.pickle\")\n",
    "#print(dict(agent_2.Q_values))\n",
    "print(environment_2.reset())"
   ],
   "outputs": [],
   "metadata": {}
  },
  {
   "cell_type": "code",
   "execution_count": null,
   "source": [
    "print(len(agent_2.Q_values))"
   ],
   "outputs": [],
   "metadata": {}
  },
  {
   "cell_type": "code",
   "execution_count": null,
   "source": [
    "agent.Q_learning(environment_2, iterations=100)"
   ],
   "outputs": [],
   "metadata": {}
  },
  {
   "cell_type": "code",
   "execution_count": null,
   "source": [
    "agent.Q_learning(environment_2, iterations=1, alpha = 0, exploration = 0, discount = 0)\n",
    "#print(environment_2.rewards_memory)"
   ],
   "outputs": [],
   "metadata": {}
  },
  {
   "cell_type": "code",
   "execution_count": null,
   "source": [
    "df_3 = pd.read_csv('forex_data_2000.csv')\n",
    "df_3 = df_3.loc[::-1].reset_index(drop=True).tail(500).reset_index(drop=True)\n",
    "environment_3 = ForexEnv(df_3)\n",
    "environment_3.reset()"
   ],
   "outputs": [],
   "metadata": {}
  },
  {
   "cell_type": "code",
   "execution_count": null,
   "source": [
    "print(df_3)"
   ],
   "outputs": [],
   "metadata": {}
  },
  {
   "cell_type": "code",
   "execution_count": null,
   "source": [
    "agent.Q_learning(environment_3, iterations=1, alpha=0, exploration=0, discount=0)"
   ],
   "outputs": [],
   "metadata": {}
  },
  {
   "cell_type": "code",
   "execution_count": null,
   "source": [
    "dataset_with_indicators(df)\n",
    "print(df)"
   ],
   "outputs": [],
   "metadata": {}
  }
 ],
 "metadata": {
  "kernelspec": {
   "name": "python3",
   "display_name": "Python 3.9.7 64-bit ('pythonProject': conda)"
  },
  "language_info": {
   "codemirror_mode": {
    "name": "ipython",
    "version": 3
   },
   "file_extension": ".py",
   "mimetype": "text/x-python",
   "name": "python",
   "nbconvert_exporter": "python",
   "pygments_lexer": "ipython3",
   "version": "3.9.7"
  },
  "orig_nbformat": 4,
  "interpreter": {
   "hash": "88d539b4520202eb5e4c6dfa8844d3212bffe2b772245135a1398c04deaa950e"
  }
 },
 "nbformat": 4,
 "nbformat_minor": 2
}